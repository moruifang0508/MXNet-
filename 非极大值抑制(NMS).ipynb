{
 "cells": [
  {
   "cell_type": "markdown",
   "metadata": {},
   "source": [
    "非极大值抑制(Non-Maximum Suppression, NMS)"
   ]
  },
  {
   "cell_type": "code",
   "execution_count": 16,
   "metadata": {},
   "outputs": [
    {
     "data": {
      "text/plain": [
       "[2, 1, 3]"
      ]
     },
     "execution_count": 16,
     "metadata": {},
     "output_type": "execute_result"
    }
   ],
   "source": [
    "import numpy as np\n",
    "dets = np.array([[100,100,210,210,0.72],\n",
    "                 [250,250,420,420,0.8],\n",
    "                 [220,220,320,330,0.92],\n",
    "                 [100,100,210,210,0.72],\n",
    "                 [230,240,325,330,0.81],\n",
    "                 [220,230,315,340,0.9]])\n",
    "\n",
    "def py_cpu_nms(dets, thresh):\n",
    "    #dets:(m,5)  thresh:scaler\n",
    "    x1 = dets[:,0]\n",
    "    y1 = dets[:,1]\n",
    "    x2 = dets[:,2]\n",
    "    y2 = dets[:,3]\n",
    "    scores = dets[:,4]\n",
    "\n",
    "    areas = (y2-y1)*(x2-x1)\n",
    "\n",
    "    index = scores.argsort()[::-1] #idex保存的是概率从大到小排列的索引\n",
    "    \n",
    "    keep = []\n",
    "    \n",
    "    while index.size >0:\n",
    "        i = index[0]  #every time the first is the biggest, and add it directly\n",
    "        keep.append(i) #將概率最大值的索引保存\n",
    "        x11 = np.maximum(x1[i], x1[index[1:]]) #calculate the points of overlap， x1[i]为单个数值，会广播\n",
    "        y11 = np.maximum(y1[i], y1[index[1:]])\n",
    "        x22 = np.minimum(x2[i], x2[index[1:]])\n",
    "        y22 = np.minimum(y2[i], y2[index[1:]])\n",
    "\n",
    "        w = np.maximum(0, x22-x11)  #the weights of overlap\n",
    "        h = np.maximum(0, y22-y11)\n",
    "\n",
    "        overlaps = w*h\n",
    "\n",
    "        ious = overlaps / (areas[i]+areas[index[1:]] - overlaps) \n",
    "        idx = np.where(ious<=thresh)[0] #查询小于等于阈值的索引，其它大于阈值的都被抛弃\n",
    "\n",
    "        index = index[idx+1] #因为索引idx是不考虑第一个元素index[0]的索引，即从1开始算的，要找到原来index的位置，需要再加上1,才能找到原来的位置\n",
    "\n",
    "    return keep\n",
    "\n",
    "py_cpu_nms(dets, 0.5)"
   ]
  }
 ],
 "metadata": {
  "kernelspec": {
   "display_name": "Python 3",
   "language": "python",
   "name": "python3"
  },
  "language_info": {
   "codemirror_mode": {
    "name": "ipython",
    "version": 3
   },
   "file_extension": ".py",
   "mimetype": "text/x-python",
   "name": "python",
   "nbconvert_exporter": "python",
   "pygments_lexer": "ipython3",
   "version": "3.7.0"
  }
 },
 "nbformat": 4,
 "nbformat_minor": 2
}
